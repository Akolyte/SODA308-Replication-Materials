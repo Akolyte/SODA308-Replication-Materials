{
 "cells": [
  {
   "cell_type": "markdown",
   "metadata": {},
   "source": [
    "# Creating the final results CSV"
   ]
  },
  {
   "cell_type": "code",
   "execution_count": 2,
   "metadata": {},
   "outputs": [],
   "source": [
    "import pandas as pd"
   ]
  },
  {
   "cell_type": "code",
   "execution_count": 3,
   "metadata": {},
   "outputs": [],
   "source": [
    "results_df = pd.DataFrame(columns = [\"name\", \"category\", \"imdb_audience_score\", \"rt_critic_score\", \n",
    "                                     \"rt_audience_score\", \"sentiment_score\", \"oscar_win\"])"
   ]
  },
  {
   "cell_type": "code",
   "execution_count": 4,
   "metadata": {},
   "outputs": [],
   "source": [
    "filenames = [\"actor_results.csv\", \n",
    "             \"actress_results.csv\", \n",
    "             \"picture_results.csv\", \n",
    "             \"supporting_actor_results.csv\", \n",
    "             \"supporting_actress_results.csv\"]"
   ]
  },
  {
   "cell_type": "code",
   "execution_count": 5,
   "metadata": {},
   "outputs": [],
   "source": [
    "for file in filenames:\n",
    "    df = pd.read_csv(file)\n",
    "    results_df = results_df.append(df)"
   ]
  },
  {
   "cell_type": "code",
   "execution_count": 6,
   "metadata": {
    "scrolled": false
   },
   "outputs": [
    {
     "data": {
      "text/html": [
       "<div>\n",
       "<style scoped>\n",
       "    .dataframe tbody tr th:only-of-type {\n",
       "        vertical-align: middle;\n",
       "    }\n",
       "\n",
       "    .dataframe tbody tr th {\n",
       "        vertical-align: top;\n",
       "    }\n",
       "\n",
       "    .dataframe thead th {\n",
       "        text-align: right;\n",
       "    }\n",
       "</style>\n",
       "<table border=\"1\" class=\"dataframe\">\n",
       "  <thead>\n",
       "    <tr style=\"text-align: right;\">\n",
       "      <th></th>\n",
       "      <th>name</th>\n",
       "      <th>category</th>\n",
       "      <th>imdb_audience_score</th>\n",
       "      <th>rt_critic_score</th>\n",
       "      <th>rt_audience_score</th>\n",
       "      <th>sentiment_score</th>\n",
       "      <th>oscar_win</th>\n",
       "    </tr>\n",
       "  </thead>\n",
       "  <tbody>\n",
       "    <tr>\n",
       "      <th>0</th>\n",
       "      <td>Anthony Hopkins</td>\n",
       "      <td>actor</td>\n",
       "      <td>0.2075</td>\n",
       "      <td>0.2450</td>\n",
       "      <td>0.2275</td>\n",
       "      <td>0.180646</td>\n",
       "      <td>0.860646</td>\n",
       "    </tr>\n",
       "    <tr>\n",
       "      <th>1</th>\n",
       "      <td>Riz Ahmed</td>\n",
       "      <td>actor</td>\n",
       "      <td>0.1950</td>\n",
       "      <td>0.2425</td>\n",
       "      <td>0.2275</td>\n",
       "      <td>0.177165</td>\n",
       "      <td>0.842165</td>\n",
       "    </tr>\n",
       "    <tr>\n",
       "      <th>2</th>\n",
       "      <td>Chadwick Boseman</td>\n",
       "      <td>actor</td>\n",
       "      <td>0.1750</td>\n",
       "      <td>0.2450</td>\n",
       "      <td>0.1850</td>\n",
       "      <td>0.155235</td>\n",
       "      <td>0.760235</td>\n",
       "    </tr>\n",
       "    <tr>\n",
       "      <th>3</th>\n",
       "      <td>Gary Oldman</td>\n",
       "      <td>actor</td>\n",
       "      <td>0.1725</td>\n",
       "      <td>0.2075</td>\n",
       "      <td>0.1475</td>\n",
       "      <td>0.179050</td>\n",
       "      <td>0.706550</td>\n",
       "    </tr>\n",
       "    <tr>\n",
       "      <th>4</th>\n",
       "      <td>Steven Yeun</td>\n",
       "      <td>actor</td>\n",
       "      <td>0.1900</td>\n",
       "      <td>0.2450</td>\n",
       "      <td>0.2200</td>\n",
       "      <td>0.167696</td>\n",
       "      <td>0.822696</td>\n",
       "    </tr>\n",
       "  </tbody>\n",
       "</table>\n",
       "</div>"
      ],
      "text/plain": [
       "               name category  imdb_audience_score  rt_critic_score  \\\n",
       "0   Anthony Hopkins    actor               0.2075           0.2450   \n",
       "1         Riz Ahmed    actor               0.1950           0.2425   \n",
       "2  Chadwick Boseman    actor               0.1750           0.2450   \n",
       "3       Gary Oldman    actor               0.1725           0.2075   \n",
       "4       Steven Yeun    actor               0.1900           0.2450   \n",
       "\n",
       "   rt_audience_score  sentiment_score  oscar_win  \n",
       "0             0.2275         0.180646   0.860646  \n",
       "1             0.2275         0.177165   0.842165  \n",
       "2             0.1850         0.155235   0.760235  \n",
       "3             0.1475         0.179050   0.706550  \n",
       "4             0.2200         0.167696   0.822696  "
      ]
     },
     "execution_count": 6,
     "metadata": {},
     "output_type": "execute_result"
    }
   ],
   "source": [
    "results_df.head()"
   ]
  },
  {
   "cell_type": "code",
   "execution_count": 6,
   "metadata": {},
   "outputs": [],
   "source": [
    "results_df.to_csv(\"results.csv\", index = False)"
   ]
  }
 ],
 "metadata": {
  "kernelspec": {
   "display_name": "Python 3",
   "language": "python",
   "name": "python3"
  },
  "language_info": {
   "codemirror_mode": {
    "name": "ipython",
    "version": 3
   },
   "file_extension": ".py",
   "mimetype": "text/x-python",
   "name": "python",
   "nbconvert_exporter": "python",
   "pygments_lexer": "ipython3",
   "version": "3.8.3"
  }
 },
 "nbformat": 4,
 "nbformat_minor": 4
}
